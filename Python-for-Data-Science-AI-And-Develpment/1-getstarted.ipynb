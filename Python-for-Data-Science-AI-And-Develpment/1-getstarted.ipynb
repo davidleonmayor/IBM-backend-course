{
 "cells": [
  {
   "cell_type": "markdown",
   "id": "473535ec",
   "metadata": {},
   "source": [
    "# Lab 1 - data types"
   ]
  },
  {
   "cell_type": "code",
   "execution_count": null,
   "id": "57ef6182",
   "metadata": {},
   "outputs": [
    {
     "name": "stdout",
     "output_type": "stream",
     "text": [
      "<class 'float'>\n",
      "<class 'int'>\n",
      "<class 'str'>\n"
     ]
    }
   ],
   "source": [
    "print(type(63.2754))\n",
    "print(type(234))\n",
    "print(type(\"name\"))\n",
    "\n",
    "# parse float to int\n",
    "print(int(63.2754))\n",
    "#parse int to float\n",
    "print(float(234))\n",
    "# parse string to float\n",
    "print(float(\"63.2754\"))\n",
    "# parse string to int\n",
    "print(int(\"234\"))"
   ]
  },
  {
   "cell_type": "markdown",
   "id": "1fac0f61",
   "metadata": {},
   "source": [
    "# Lab 2 - varibales and expressions"
   ]
  },
  {
   "cell_type": "code",
   "execution_count": null,
   "id": "b5656ad1",
   "metadata": {},
   "outputs": [],
   "source": [
    "# Expressions\n",
    "print(43 + 60 + 16 + 41)\n",
    "print(50 - 60)\n",
    "print(5 * 5)\n",
    "print(25 / 5)\n",
    "print(25 / 6)\n",
    "print(25 // 5)\n",
    "print(25 // 6)\n",
    "print(160 // 60 )\n",
    "print(160 // 60 )"
   ]
  },
  {
   "cell_type": "code",
   "execution_count": 9,
   "id": "3d3dedfe",
   "metadata": {},
   "outputs": [
    {
     "name": "stdout",
     "output_type": "stream",
     "text": [
      "160\n",
      "-10\n"
     ]
    }
   ],
   "source": [
    "# variables\n",
    "x = 43 + 60 + 16 + 41\n",
    "print(x)\n",
    "y = 50 - 60\n",
    "print(y)\n"
   ]
  },
  {
   "cell_type": "markdown",
   "id": "15a2b25f",
   "metadata": {},
   "source": [
    "# Lab 3 - strings operations"
   ]
  },
  {
   "cell_type": "code",
   "execution_count": null,
   "id": "40407e6d",
   "metadata": {},
   "outputs": [
    {
     "name": "stdout",
     "output_type": "stream",
     "text": [
      "string variable has: 11 chareacters\n",
      "Hello world\n",
      "H\n",
      "d\n",
      "H\n",
      "d\n",
      "\n",
      "\n",
      "Hlowrd\n",
      "o wor\n",
      "owr\n"
     ]
    }
   ],
   "source": [
    "#strings operations\n",
    "string = \"Hello world\"\n",
    "print(f\"string variable has: {len(string)} chareacters\")\n",
    "\n",
    "print(string)\n",
    "print(string[0])\n",
    "print(string[10])\n",
    "print(string[-11])\n",
    "print(string[-1])\n",
    "\n",
    "print(\"\\n\")\n",
    "\n",
    "#[Where starts: where ends :how much jumps] \n",
    "print(string[::2]) # front the start to the end with 2 jumnp is the same that -> string[0::2]\n",
    "print(string[4:9]) # -> where start, where ends, how much jumps\n",
    "print(string[4:9:2]) # -> where start, where ends, how much jumps\n"
   ]
  },
  {
   "cell_type": "markdown",
   "id": "65e8c54c",
   "metadata": {},
   "source": []
  }
 ],
 "metadata": {
  "kernelspec": {
   "display_name": "Python 3",
   "language": "python",
   "name": "python3"
  },
  "language_info": {
   "codemirror_mode": {
    "name": "ipython",
    "version": 3
   },
   "file_extension": ".py",
   "mimetype": "text/x-python",
   "name": "python",
   "nbconvert_exporter": "python",
   "pygments_lexer": "ipython3",
   "version": "3.10.12"
  }
 },
 "nbformat": 4,
 "nbformat_minor": 5
}
