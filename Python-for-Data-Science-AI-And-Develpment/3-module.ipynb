{
 "cells": [
  {
   "cell_type": "markdown",
   "id": "6f89dbf6",
   "metadata": {},
   "source": [
    "# Conditions and branches "
   ]
  },
  {
   "cell_type": "code",
   "execution_count": null,
   "id": "b2d7297c",
   "metadata": {},
   "outputs": [],
   "source": [
    "# Check if a number is positive, negative, or zero\n",
    "number = int(input(\"Enter a number: \"))\n",
    "if number > 0:\n",
    "    print(\"The number is positive.\")\n",
    "elif number < 0:\n",
    "    print(\"The number is negative.\")\n",
    "else:\n",
    "    print(\"The number is zero.\")\n",
    "\n",
    "# Decide if a person is a child, teenager, or adult based on age\n",
    "age = int(input(\"Enter your age: \"))\n",
    "if age < 13:\n",
    "    print(\"You are a child.\")\n",
    "elif age < 18:\n",
    "    print(\"You are a teenager.\")\n",
    "else:\n",
    "    print(\"You are an adult.\")\n",
    "\n",
    "# Apply a discount based on purchase amount\n",
    "amount = float(input(\"Enter your purchase total ($): \"))\n",
    "if amount >= 100:\n",
    "    print(\"You get a 20% discount.\")\n",
    "elif amount >= 50:\n",
    "    print(\"You get a 10% discount.\")\n",
    "else:\n",
    "    print(\"No discount applied.\")"
   ]
  },
  {
   "cell_type": "markdown",
   "id": "f6a09cfe",
   "metadata": {},
   "source": [
    "# Loops"
   ]
  },
  {
   "cell_type": "code",
   "execution_count": 11,
   "id": "fe688487",
   "metadata": {},
   "outputs": [
    {
     "name": "stdout",
     "output_type": "stream",
     "text": [
      "0 1\n",
      "1 4\n",
      "2 9\n",
      "3 16\n",
      "4 25\n",
      "0\n",
      "1\n",
      "2\n",
      "3\n",
      "4\n",
      "1\n",
      "2\n",
      "3\n",
      "4\n",
      "5\n"
     ]
    }
   ],
   "source": [
    "# destructure items\n",
    "squares = [1, 4, 9, 16, 25]\n",
    "for i, square in enumerate(squares): \n",
    "    print(i, square)\n",
    "\n",
    "# In a range\n",
    "for i in range(0, 5):\n",
    "    print(i)\n",
    "\n",
    "# in set elements\n",
    "nums = [1, 2, 3, 4, 5]\n",
    "for i in nums:\n",
    "    print(i)\n",
    "\n",
    "# List comprehensions\n",
    "# nueva_lista = [expresión for elemento in lista]\n",
    "numeros = [x**2 for x in range(10)]\n",
    "cuadrados = [x**2 for x in numeros]\n",
    "pares = [x for x in numeros if x % 2 == 0]\n"
   ]
  },
  {
   "cell_type": "markdown",
   "id": "a1c750d2",
   "metadata": {},
   "source": [
    "# Functions"
   ]
  },
  {
   "cell_type": "code",
   "execution_count": null,
   "id": "f77e94cd",
   "metadata": {},
   "outputs": [
    {
     "name": "stdout",
     "output_type": "stream",
     "text": [
      "Hello Alice, you are 30 years old.\n",
      "Hello Bob, you are 0 years old.\n"
     ]
    }
   ],
   "source": [
    "# basic funcition\n",
    "#  parameters (name, type, default value)\n",
    "def greet(name: str, age: int = 0):  # function definition and header\n",
    "    # function body\n",
    "    print(f\"Hello {name}, you are {age} years old.\")\n",
    "\n",
    "greet(\"Alice\", 30)  # Call the function\n",
    "greet(\"Bob\")  # Call the function with default age\n",
    "\n",
    "# Function to return multiple values\n",
    "def get_person():\n",
    "    return \"Alice\", 30\n",
    "\n",
    "name, age = get_person()\n",
    "print(name, age)\n",
    "\n",
    "#  Lambda function (anonymous function)\n",
    "add = lambda x, y: x + y\n",
    "print(add(3, 4))  # 7\n",
    "# Filter even numbers using lambda\n",
    "number = [x for x in range(10)]\n",
    "even_numbers = list(filter(lambda x: x % 2 == 0, number))"
   ]
  },
  {
   "cell_type": "markdown",
   "id": "8371e30e",
   "metadata": {},
   "source": [
    "# Exeption errors"
   ]
  },
  {
   "cell_type": "code",
   "execution_count": 9,
   "id": "6e1b9841",
   "metadata": {},
   "outputs": [
    {
     "name": "stdout",
     "output_type": "stream",
     "text": [
      "\u001b[92mSuccess! a = 0.011111111111111112\u001b[0m\n",
      "This always runs (finally block)\n",
      "Outside of try and except block\n"
     ]
    }
   ],
   "source": [
    "# tipical error\n",
    "# 4/0 # division by zero error\n",
    "\n",
    "# y = a + 5 # NameError: name 'a' is not defined\n",
    "\n",
    "# a = [1, 2, 3] \n",
    "# a[10] # IndexError: list index out of range\n",
    "\n",
    "# Example of a try-except-finally block in Python\n",
    "try:\n",
    "    pass\n",
    "    # code to try to execute\n",
    "except:\n",
    "    # code to execute if there is an exception\n",
    "    pass\n",
    "# code that will still execute if there is an exception\n",
    "finally:\n",
    "    # code that will always execute, regardless of whether an exception occurred or not\n",
    "    pass\n",
    "\n",
    "# Example of a try-except block with specific exception handling\n",
    "a = 1\n",
    "try:\n",
    "    # Attempting to divide 10 by 0 or user input\n",
    "    b = int(input(\"Please enter a number to divide a: \"))\n",
    "    a = a / b\n",
    "# except (ZeroDivisionError, NameError): -> you can handle multiple exceptions\n",
    "except ZeroDivisionError:\n",
    "    # Handling the ZeroDivisionError and printing an error message\n",
    "    print(\"\\033[91mError: Cannot divide by zero\\033[0m\")  # red text\n",
    "except TypeError:\n",
    "    # Handling a possible TypeError (e.g., dividing a number by a string)\n",
    "    print(\"\\033[91mError: Type mismatch in operation\\033[0m\")  # red text\n",
    "except ValueError:\n",
    "    # Handling error when input cannot be converted to integer\n",
    "    print(\"\\033[91mError: You must enter a valid number\\033[0m\")  # red text\n",
    "else:\n",
    "    # This block runs if no exceptions were raised in the try block\n",
    "    print(\"\\033[92mSuccess! a = {}\\033[0m\".format(a))  # green text\n",
    "finally:\n",
    "    # This block runs no matter what\n",
    "    print(\"This always runs (finally block)\")\n",
    "\n",
    "# This line will be executed regardless of whether an exception occurred\n",
    "print(\"Outside of try and except block\")"
   ]
  },
  {
   "cell_type": "markdown",
   "id": "ce4fd0ba",
   "metadata": {},
   "source": [
    "# Classes and objects"
   ]
  },
  {
   "cell_type": "code",
   "execution_count": 6,
   "id": "9de31634",
   "metadata": {},
   "outputs": [
    {
     "name": "stdout",
     "output_type": "stream",
     "text": [
      "param1 param2\n",
      "param3\n",
      "param4 param5\n",
      "param6\n"
     ]
    }
   ],
   "source": [
    "class ClassName:\n",
    "    # Class attributes (shared by all instances)\n",
    "    class_attribute = \"value\"\n",
    "    # Constructor method (initialize instance attributes)\n",
    "    def __init__ (self, attribute1, attribute2):\n",
    "        self.attribute1 = attribute1\n",
    "        self.attribute2 = attribute2\n",
    "        # ...\n",
    "    # Instance methods (functions)\n",
    "    def method1(self, parameter1, parameter2):\n",
    "        # Method logic\n",
    "\n",
    "        print(parameter1, parameter2)\n",
    "    def method2(self, parameter1):\n",
    "        # Method logic\n",
    "        print(parameter1)\n",
    "\n",
    "# Create objects (instances) of the class\n",
    "object1 = ClassName(\"arg1\", \"arg2\")\n",
    "object2 = ClassName(\"arg3\", \"arg4\")\n",
    "\n",
    "\n",
    "object1.method1(\"param1\", \"param2\")\n",
    "object1.method2(\"param3\")\n",
    "\n",
    "object2.method1(\"param4\", \"param5\")\n",
    "object2.method2(\"param6\")"
   ]
  },
  {
   "cell_type": "code",
   "execution_count": 2,
   "id": "8f391d8c",
   "metadata": {},
   "outputs": [
    {
     "data": {
      "image/png": "[encoded data removed]",
      "text/plain": [
       "<Figure size 640x480 with 1 Axes>"
      ]
     },
     "metadata": {},
     "output_type": "display_data"
    }
   ],
   "source": [
    "import matplotlib.pyplot as plt\n",
    "\n",
    "# Create a new Rectangle class for creating a rectangle object\n",
    "class Rectangle(object):\n",
    "    \n",
    "    # Constructor\n",
    "    def __init__(self, width=2, height=3, color='r'):\n",
    "        self.height = height \n",
    "        self.width = width\n",
    "        self.color = color\n",
    "    \n",
    "    # Method\n",
    "    def drawRectangle(self):\n",
    "        plt.gca().add_patch(plt.Rectangle((0, 0), self.width, self.height ,fc=self.color))\n",
    "        plt.axis('scaled')\n",
    "        plt.show()\n",
    "        \n",
    "rectangle = Rectangle(4, 2, 'b')  # Create a rectangle object with width=4, height=2, color='b'\n",
    "rectangle.drawRectangle()  # Call the method to draw the rectangle"
   ]
  },
  {
   "cell_type": "code",
   "execution_count": 6,
   "id": "cd0cfa6b",
   "metadata": {},
   "outputs": [
    {
     "data": {
      "image/png": "[encoded data removed]",
      "text/plain": [
       "<Figure size 640x480 with 1 Axes>"
      ]
     },
     "metadata": {},
     "output_type": "display_data"
    },
    {
     "name": "stdout",
     "output_type": "stream",
     "text": [
      "New radius: 105\n"
     ]
    },
    {
     "data": {
      "image/png": "[encoded data removed]",
      "text/plain": [
       "<Figure size 640x480 with 1 Axes>"
      ]
     },
     "metadata": {},
     "output_type": "display_data"
    }
   ],
   "source": [
    "# Create a class Circle\n",
    "\n",
    "class Circle(object):\n",
    "    \n",
    "    # Constructor\n",
    "    def __init__(self, radius=3, color='blue'):\n",
    "        self.radius = radius\n",
    "        self.color = color \n",
    "    \n",
    "    # Method\n",
    "    def add_radius(self, r):\n",
    "        self.radius = self.radius + r\n",
    "        return(self.radius)\n",
    "    \n",
    "    # Method\n",
    "    def drawCircle(self):\n",
    "        plt.gca().add_patch(plt.Circle((0, 0), radius=self.radius, fc=self.color))\n",
    "        plt.axis('scaled')\n",
    "        plt.show()  # 2pR\n",
    "\n",
    "circle = Circle(5, 'g')  # Create a circle object with radius=5, color='g'\n",
    "circle.drawCircle()  # Call the method to draw the circle\n",
    "circle.add_radius(100)  # Add 2 to the radius\n",
    "print(f\"New radius: {circle.radius}\")  # Print the new radius after adding\n",
    "circle.drawCircle()  # Draw the circle again with the new radius"
   ]
  },
  {
   "cell_type": "code",
   "execution_count": 7,
   "id": "82a726d4",
   "metadata": {},
   "outputs": [
    {
     "data": {
      "text/plain": [
       "'Valid'"
      ]
     },
     "execution_count": 7,
     "metadata": {},
     "output_type": "execute_result"
    }
   ],
   "source": [
    "def validate_temperature(reading): \n",
    "    if 20 <= reading <= 40: \n",
    "        result = \"Valid\" \n",
    "    else: \n",
    "        result = \"Invalid\" \n",
    "    return result\n",
    "\n",
    "validate_temperature(32)"
   ]
  }
 ],
 "metadata": {
  "kernelspec": {
   "display_name": "venv (3.10.12)",
   "language": "python",
   "name": "python3"
  },
  "language_info": {
   "codemirror_mode": {
    "name": "ipython",
    "version": 3
   },
   "file_extension": ".py",
   "mimetype": "text/x-python",
   "name": "python",
   "nbconvert_exporter": "python",
   "pygments_lexer": "ipython3",
   "version": "3.10.12"
  }
 },
 "nbformat": 4,
 "nbformat_minor": 5
}
