{
 "cells": [
  {
   "cell_type": "markdown",
   "id": "328f9c0e",
   "metadata": {},
   "source": [
    "# Read and manage files"
   ]
  },
  {
   "cell_type": "code",
   "execution_count": 11,
   "id": "bc77cb3d",
   "metadata": {},
   "outputs": [
    {
     "name": "stdout",
     "output_type": "stream",
     "text": [
      "File example1.txt already exists, skipping download.\n",
      "example1.txt\n",
      "r\n",
      "------------\n",
      "\n",
      "This is line 1 \n",
      "This is line 2\n",
      "This is line 3\n",
      "------------\n",
      "\n",
      "File updated successfully.\n",
      "------------\n",
      "\n",
      "This is an example file.\n",
      "It contains some text data.\n",
      "This line is appended to the file.\n",
      "Appending more text data.\n",
      "\n",
      "File updated successfully.\n"
     ]
    }
   ],
   "source": [
    "import urllib.request\n",
    "import os\n",
    "\n",
    "\"\"\"\n",
    " paramether are\n",
    "  - (r) opens a file for reading (default mode)\n",
    "  - (w) creates a new file or overwrites an existing one\n",
    "  - (a) opens a file for appending, creates the file if it does not exist\n",
    "\n",
    "\"\"\"\n",
    "\n",
    "# download a file from a URL only if it doesn't exist\n",
    "url = 'https://cf-courses-data.s3.us.cloud-object-storage.appdomain.cloud/IBMDeveloperSkillsNetwork-PY0101EN-SkillsNetwork/labs/Module%204/data/example1.txt'\n",
    "file_name = 'example1.txt'\n",
    "\n",
    "# Check if file exists before downloading\n",
    "if not os.path.exists(file_name):\n",
    "    print(f\"Downloading {file_name}...\")\n",
    "    urllib.request.urlretrieve(url, file_name)\n",
    "    print(f\"Download completed: {file_name}\")\n",
    "else:\n",
    "    print(f\"File {file_name} already exists, skipping download.\")\n",
    "\n",
    "# Read the file (using the correct filename)\n",
    "with open(file_name, 'r') as file:\n",
    "    # Info\n",
    "    print(file.name)\n",
    "    print(file.mode)\n",
    "    print(\"------------\\n\")\n",
    "\n",
    "    # Read the contents of the file\n",
    "    content = file.read()\n",
    "    print(content)\n",
    "\n",
    "\n",
    "# write in a file\n",
    "os.chdir('/home/david/courses/IBM-backend/Python-for-Data-Science-AI-And-Develpment/')\n",
    "with open('example2.txt', 'w') as file:\n",
    "    file.write(\"This is an example file.\\n\")\n",
    "    file.write(\"It contains some text data.\\n\")\n",
    "\n",
    "\n",
    "# use the a method\n",
    "with open('example2.txt', 'a') as file:\n",
    "    print(\"------------\\n\")\n",
    "    file.write(\"This line is appended to the file.\\n\")\n",
    "    file.write(\"Appending more text data.\\n\")\n",
    "    print(\"File updated successfully.\")\n",
    "\n",
    "\n",
    "# we can concat more than one operations\n",
    "\"\"\"\n",
    "this code is the same to make -> read an write mode\n",
    "with open('example2.txt', 'r+') as file:\n",
    "    content = file.read()\n",
    "    print(content)\n",
    "    file.write(\"This line is appended to the file.\\n\")\n",
    "\"\"\"\n",
    "with open('example2.txt', 'r') as file:\n",
    "    print(\"------------\\n\")\n",
    "    content = file.read()\n",
    "    # Process the content as needed\n",
    "    print(content)\n",
    "\n",
    "    with open('example2.txt', 'a') as file:\n",
    "        file.write(\"This line is appended to the file.\\n\")\n",
    "        file.write(\"Appending more text data.\\n\")\n",
    "        print(\"File updated successfully.\")\n"
   ]
  },
  {
   "cell_type": "markdown",
   "id": "a0cdea95",
   "metadata": {},
   "source": [
    "# Pandas for data analysis"
   ]
  },
  {
   "cell_type": "code",
   "execution_count": 12,
   "id": "48311cc9",
   "metadata": {},
   "outputs": [
    {
     "name": "stdout",
     "output_type": "stream",
     "text": [
      "         Date   Product     Category  Units_Sold  Unit_Price  Total_Sales  \\\n",
      "0  2025-01-05  Notebook   Stationery          20         2.5         50.0   \n",
      "1  2025-01-06       Pen   Stationery          50         1.0         50.0   \n",
      "2  2025-01-07    Laptop  Electronics           5       500.0       2500.0   \n",
      "3  2025-01-08     Mouse  Electronics          10        25.0        250.0   \n",
      "4  2025-01-09      Desk    Furniture           2       150.0        300.0   \n",
      "\n",
      "  Region  \n",
      "0  North  \n",
      "1   East  \n",
      "2   West  \n",
      "3  North  \n",
      "4  South  \n"
     ]
    }
   ],
   "source": [
    "import pandas as pd\n",
    "\n",
    "# read a CSV file\n",
    "csv_path = '/home/david/courses/IBM-backend/Python-for-Data-Science-AI-And-Develpment/sales_data.csv'\n",
    "df1 = pd.read_csv(csv_path)\n",
    "print(df1.head())"
   ]
  },
  {
   "cell_type": "code",
   "execution_count": 13,
   "id": "f9cf2a8c",
   "metadata": {},
   "outputs": [
    {
     "name": "stdout",
     "output_type": "stream",
     "text": [
      "    Product  Units_Sold        Date\n",
      "0  Notebook          20  2025-01-05\n",
      "1       Pen          50  2025-01-06\n",
      "2    Laptop           5  2025-01-07\n",
      "3     Mouse          10  2025-01-08\n",
      "4      Desk           2  2025-01-09\n",
      "5     Chair           4  2025-01-10\n",
      "6  Notebook          30  2025-01-11\n",
      "7   Monitor           3  2025-01-12\n",
      "8       Pen          40  2025-01-13\n",
      "9     Chair           2  2025-01-14 \n",
      "--------\n",
      "here1:  Laptop\n",
      "here3:  40\n",
      "here2:  2025-01-08\n",
      "the product Monitor was sold 3 units on 2025-01-12\n",
      "\n",
      "--------\n",
      "Laptop\n",
      "40\n",
      "2025-01-08\n",
      "the product Monitor was sold 3 units on 2025-01-12\n"
     ]
    }
   ],
   "source": [
    "# Manipulating dataframes\n",
    "# get full colums\n",
    "df_split = df1[[\"Product\", \"Units_Sold\", \"Date\"]]\n",
    "print(df_split, \"\\n--------\")\n",
    "# get one item\n",
    "print(\"here1: \", df_split.iloc[2, 0]) # iloc just work with indexes\n",
    "print(\"here3: \", df_split.iloc[8, 1])\n",
    "print(\"here2: \", df_split.iloc[3, 2])\n",
    "print(f\"the product {df_split.iloc[7, 0]} was sold {df_split.iloc[7, 1]} units on {df_split.iloc[7, 2]}\")\n",
    "\n",
    "print(\"\\n--------\")\n",
    "print(df_split.loc[2, \"Product\"])\n",
    "print(df_split.loc[8, \"Units_Sold\"])\n",
    "print(df_split.loc[3, \"Date\"])\n",
    "print(f\"the product {df_split.loc[7, 'Product']} was sold {df_split.loc[7, 'Units_Sold']} units on {df_split.loc[7, 'Date']}\")\n"
   ]
  },
  {
   "cell_type": "code",
   "execution_count": 14,
   "id": "6fe12049",
   "metadata": {},
   "outputs": [
    {
     "name": "stdout",
     "output_type": "stream",
     "text": [
      "         Date   Product     Category\n",
      "0  2025-01-05  Notebook   Stationery\n",
      "1  2025-01-06       Pen   Stationery\n",
      "2  2025-01-07    Laptop  Electronics \n",
      "--------\n",
      "         Date   Product     Category\n",
      "0  2025-01-05  Notebook   Stationery\n",
      "1  2025-01-06       Pen   Stationery\n",
      "2  2025-01-07    Laptop  Electronics\n",
      "3  2025-01-08     Mouse  Electronics \n",
      "--------\n"
     ]
    }
   ],
   "source": [
    "# silece dataset\n",
    "slice_df1 = df1.iloc[0:3, 0:3]\n",
    "print(slice_df1, \"\\n--------\")\n",
    "slice_df2 = df1.loc[0:3, \"Date\":\"Category\"]\n",
    "print(slice_df2, \"\\n--------\")"
   ]
  },
  {
   "cell_type": "code",
   "execution_count": 15,
   "id": "576c5ba7",
   "metadata": {},
   "outputs": [
    {
     "name": "stdout",
     "output_type": "stream",
     "text": [
      "--------data frame with letters: \n",
      "\n",
      "         Date   Product     Category  Units_Sold  Unit_Price  Total_Sales  \\\n",
      "a  2025-01-05  Notebook   Stationery          20         2.5         50.0   \n",
      "b  2025-01-06       Pen   Stationery          50         1.0         50.0   \n",
      "c  2025-01-07    Laptop  Electronics           5       500.0       2500.0   \n",
      "d  2025-01-08     Mouse  Electronics          10        25.0        250.0   \n",
      "e  2025-01-09      Desk    Furniture           2       150.0        300.0   \n",
      "f  2025-01-10     Chair    Furniture           4        75.0        300.0   \n",
      "g  2025-01-11  Notebook   Stationery          30         2.5         75.0   \n",
      "h  2025-01-12   Monitor  Electronics           3       200.0        600.0   \n",
      "i  2025-01-13       Pen   Stationery          40         1.0         40.0   \n",
      "j  2025-01-14     Chair    Furniture           2        75.0        150.0   \n",
      "\n",
      "  Region  \n",
      "a  North  \n",
      "b   East  \n",
      "c   West  \n",
      "d  North  \n",
      "e  South  \n",
      "f   East  \n",
      "g   West  \n",
      "h  North  \n",
      "i  South  \n",
      "j   East   \n",
      "--------\n",
      "--------data frame with numbers: \n",
      "\n",
      "         Date   Product     Category  Units_Sold  Unit_Price  Total_Sales  \\\n",
      "0  2025-01-05  Notebook   Stationery          20         2.5         50.0   \n",
      "1  2025-01-06       Pen   Stationery          50         1.0         50.0   \n",
      "2  2025-01-07    Laptop  Electronics           5       500.0       2500.0   \n",
      "3  2025-01-08     Mouse  Electronics          10        25.0        250.0   \n",
      "4  2025-01-09      Desk    Furniture           2       150.0        300.0   \n",
      "5  2025-01-10     Chair    Furniture           4        75.0        300.0   \n",
      "6  2025-01-11  Notebook   Stationery          30         2.5         75.0   \n",
      "7  2025-01-12   Monitor  Electronics           3       200.0        600.0   \n",
      "8  2025-01-13       Pen   Stationery          40         1.0         40.0   \n",
      "9  2025-01-14     Chair    Furniture           2        75.0        150.0   \n",
      "\n",
      "  Region  \n",
      "0  North  \n",
      "1   East  \n",
      "2   West  \n",
      "3  North  \n",
      "4  South  \n",
      "5   East  \n",
      "6   West  \n",
      "7  North  \n",
      "8  South  \n",
      "9   East  \n"
     ]
    }
   ],
   "source": [
    "# Change index rows\n",
    "df_with_letters = df1.copy()  # Haces una copia para no modificar df1 directamente\n",
    "df_with_letters.index = ['a', 'b', 'c', 'd', 'e', 'f', 'g', 'h', 'i', 'j']  # Cambias el índice de filas a letras\n",
    "\n",
    "print(\"--------data frame with letters: \\n\")\n",
    "print(df_with_letters, \"\\n--------\")  # Muestra el DataFrame con letras\n",
    "\n",
    "print(\"--------data frame with numbers: \\n\")\n",
    "print(df1)  # Muestra el original con índices numéricos"
   ]
  },
  {
   "cell_type": "code",
   "execution_count": 16,
   "id": "af09fa89",
   "metadata": {},
   "outputs": [
    {
     "name": "stdout",
     "output_type": "stream",
     "text": [
      "   StudentID     Name  Age            Course  Progress (%)  Completed  Grade  \\\n",
      "0        101     Anna   22   Intro to Python            85       True    9.0   \n",
      "1        102     Luis   28      Data Science            60      False    7.5   \n",
      "2        103    Maria   31  Machine Learning           100       True    9.8   \n",
      "3        104  Charles   25   Intro to Python            45      False    6.0   \n",
      "4        105   Sophia   27      Data Science            70      False    8.2   \n",
      "\n",
      "  EnrollmentDate  \n",
      "0     2025-06-01  \n",
      "1     2025-06-15  \n",
      "2     2025-05-10  \n",
      "3     2025-07-01  \n",
      "4     2025-06-20   \n",
      "--------\n"
     ]
    }
   ],
   "source": [
    "# Create a DataFrame from a dictionary\n",
    "df_academy = pd.DataFrame({\n",
    "    'StudentID': [101, 102, 103, 104, 105],\n",
    "    'Name': ['Anna', 'Luis', 'Maria', 'Charles', 'Sophia'],\n",
    "    'Age': [22, 28, 31, 25, 27],\n",
    "    'Course': ['Intro to Python', 'Data Science', 'Machine Learning', 'Intro to Python', 'Data Science'],\n",
    "    'Progress (%)': [85, 60, 100, 45, 70],\n",
    "    'Completed': [True, False, True, False, False],\n",
    "    'Grade': [9.0, 7.5, 9.8, 6.0, 8.2],\n",
    "    'EnrollmentDate': ['2025-06-01', '2025-06-15', '2025-05-10', '2025-07-01', '2025-06-20']\n",
    "})\n",
    "print(df_academy, \"\\n--------\")"
   ]
  },
  {
   "cell_type": "markdown",
   "id": "141fdb8a",
   "metadata": {},
   "source": [
    "# Working with and Saving Data"
   ]
  },
  {
   "cell_type": "code",
   "execution_count": 17,
   "id": "0cac7db1",
   "metadata": {},
   "outputs": [
    {
     "name": "stdout",
     "output_type": "stream",
     "text": [
      "unique values of StudentID column:\n",
      "  [101 102 103 104 105] \n",
      "--------\n",
      "¿Progreso mayor a 10?:\n",
      " 0     True\n",
      "1    False\n",
      "2     True\n",
      "3    False\n",
      "4     True\n",
      "Name: Progress (%), dtype: bool \n",
      "--------\n",
      "¿Copy full colums in a new dataset?:\n",
      "    StudentID    Name  Age            Course  Progress (%)  Completed  Grade  \\\n",
      "0        101    Anna   22   Intro to Python            85       True    9.0   \n",
      "2        103   Maria   31  Machine Learning           100       True    9.8   \n",
      "4        105  Sophia   27      Data Science            70      False    8.2   \n",
      "\n",
      "  EnrollmentDate  \n",
      "0     2025-06-01  \n",
      "2     2025-05-10  \n",
      "4     2025-06-20   \n",
      "--------\n",
      ".: TEST :.\n",
      "['Intro to Python' 'Data Science' 'Machine Learning'] \n",
      "--------\n",
      "5 \n",
      "--------\n",
      "0       Anna\n",
      "1       Luis\n",
      "2      Maria\n",
      "3    Charles\n",
      "4     Sophia\n",
      "Name: Name, dtype: object \n",
      "--------\n"
     ]
    }
   ],
   "source": [
    "# get the unique values in a column\n",
    "df_students = df_academy['StudentID'].unique()\n",
    "print(\"unique values of StudentID column:\\n \", df_students, \"\\n--------\")\n",
    "\n",
    "# Obtener una serie booleana indicando si el progreso es mayor a 10\n",
    "print(\"¿Progreso mayor a 10?:\\n\", df_academy['Progress (%)'] >= 70, \"\\n--------\")\n",
    "\n",
    "# Filter and get his owns values\n",
    "print(\"¿Copy full colums in a new dataset?:\\n\", df_academy[df_academy['Progress (%)'] >= 70] , \"\\n--------\")\n",
    "\n",
    "# ---------------------------------------------\n",
    "print(\".: TEST :.\")\n",
    "#Imprime los valores únicos de la columna 'Course' en el DataFrame df_academy.\n",
    "print( df_academy['Course'].unique() , \"\\n--------\")\n",
    "# ¿Cuántos valores únicos hay en la columna 'Age'?\n",
    "print(len(df_academy['Age'].unique()) , \"\\n--------\")\n",
    "# Nombres de estudiantes con 'Grade' único (no repetido)\n",
    "unique_grades = df_academy['Grade'].value_counts()\n",
    "students_unique_grade = df_academy[df_academy['Grade'].map(unique_grades) == 1]['Name']\n",
    "print(students_unique_grade, \"\\n--------\")"
   ]
  },
  {
   "cell_type": "code",
   "execution_count": 18,
   "id": "24c430df",
   "metadata": {},
   "outputs": [
    {
     "name": "stdout",
     "output_type": "stream",
     "text": [
      "File /home/david/courses/IBM-backend/Python-for-Data-Science-AI-And-Develpment/academy_data.csv already exists, skipping save operation.\n"
     ]
    }
   ],
   "source": [
    "# Save the DataFrame to a CSV file if it doesn't exist\n",
    "csv_academy_path = '/home/david/courses/IBM-backend/Python-for-Data-Science-AI-And-Develpment/academy_data.csv'\n",
    "if not os.path.exists(csv_academy_path):\n",
    "    df_academy.to_csv(csv_academy_path, index=False)\n",
    "    print(f\"DataFrame saved to {csv_academy_path}\")\n",
    "else:\n",
    "    print(f\"File {csv_academy_path} already exists, skipping save operation.\")"
   ]
  },
  {
   "cell_type": "code",
   "execution_count": 19,
   "id": "abf93f64",
   "metadata": {},
   "outputs": [
    {
     "name": "stdout",
     "output_type": "stream",
     "text": [
      "0    10\n",
      "1    20\n",
      "2    30\n",
      "3    40\n",
      "4    50\n",
      "dtype: int64\n"
     ]
    }
   ],
   "source": [
    "# Create a Series from a list -> array with one dimention\n",
    "data = [10, 20, 30, 40, 50]\n",
    "s = pd.Series(data)\n",
    "print(s)  #"
   ]
  },
  {
   "cell_type": "markdown",
   "id": "ead08ad5",
   "metadata": {},
   "source": [
    "# One dimensional numpy\n",
    "\n",
    "> matplotlib help to create grapics and  data visualization\n",
    "\n"
   ]
  },
  {
   "cell_type": "code",
   "execution_count": 20,
   "id": "0f2f9956",
   "metadata": {},
   "outputs": [
    {
     "data": {
      "text/plain": [
       "[<matplotlib.lines.Line2D at 0x7fb221329300>]"
      ]
     },
     "execution_count": 20,
     "metadata": {},
     "output_type": "execute_result"
    },
    {
     "data": {
      "image/png": "[encoded data removed]",
      "text/plain": [
       "<Figure size 640x480 with 1 Axes>"
      ]
     },
     "metadata": {},
     "output_type": "display_data"
    }
   ],
   "source": [
    "import matplotlib.pyplot as plt\n",
    "\n",
    "plt.plot([x for x in range(10)], [x**2 for x in range(10)])"
   ]
  },
  {
   "cell_type": "code",
   "execution_count": 21,
   "id": "b1c1853e",
   "metadata": {},
   "outputs": [
    {
     "name": "stdout",
     "output_type": "stream",
     "text": [
      "[1 2 3 4 5] -> type: <class 'numpy.ndarray'>\n",
      "-----------------\n",
      "u[1:3]: [2 3]\n",
      "u[0:]: [1 2 3 4 5]\n",
      "-----------------\n",
      "Después de u[0] = 10: [10  2  3  4  5]\n",
      "Después de u[1:] = [x*2 for x in u[1:]]: [10  4  6  8 10]\n",
      "-----------------\n",
      "U: [1 2 3 4 5]\n",
      "V: [ 6  7  8  9 10]\n",
      "Suma con bucle: [ 7  9 11 13 15]\n",
      "Suma vectorizada:       [ 7  9 11 13 15]\n",
      "Resta vectorizada:      [-5 -5 -5 -5 -5]\n",
      "Multiplicación por escalar: [ 2  4  6  8 10]\n",
      "Multiplicación elemento a elemento: [ 6 14 24 36 50]\n",
      "Producto punto (dot product): 130\n",
      "-----------------\n"
     ]
    },
    {
     "data": {
      "image/png": "[encoded data removed]",
      "text/plain": [
       "<Figure size 640x480 with 1 Axes>"
      ]
     },
     "metadata": {},
     "output_type": "display_data"
    }
   ],
   "source": [
    "import numpy as np\n",
    "\n",
    "# Crear un array unidimensional\n",
    "u = np.array([1, 2, 3, 4, 5])\n",
    "print(f\"{u} -> type: {type(u)}\")\n",
    "\n",
    "# Indexado (slicing)\n",
    "print(\"-----------------\")\n",
    "print(\"u[1:3]:\", u[1:3])               # Elementos del índice 1 al 2\n",
    "print(\"u[0:]:\", u[0:])     # Todos los elementos\n",
    "\n",
    "# Asignación de valores\n",
    "print(\"-----------------\")\n",
    "u[0] = 10                             # Cambia el primer valor\n",
    "print(\"Después de u[0] = 10:\", u)\n",
    "u[1:] = [x * 2 for x in u[1:]]        # Duplicar desde el índice 1 en adelante\n",
    "print(\"Después de u[1:] = [x*2 for x in u[1:]]:\", u)\n",
    "\n",
    "# Operaciones básicas\n",
    "print(\"-----------------\")\n",
    "u = np.array([1, 2, 3, 4, 5])\n",
    "v = np.array([6, 7, 8, 9, 10])\n",
    "print(f\"U: {u}\")\n",
    "print(f\"V: {v}\")\n",
    "\n",
    "# Suma y resta de elemento a elemento usando bucle (sin vectorizar)\n",
    "u_v = []\n",
    "for u_i, v_i in zip(u, v):\n",
    "    u_v.append(u_i + v_i) # solo es cambiar la operación para la resta\n",
    "u_v = np.array(u_v)\n",
    "print(\"Suma con bucle:\", u_v)\n",
    "\n",
    "# Suma vectorizada\n",
    "print(\"Suma vectorizada:      \", u + v)\n",
    "# Resta vectorizada\n",
    "print(\"Resta vectorizada:     \", u - v)\n",
    "# Multiplicación por escalar\n",
    "print(\"Multiplicación por escalar:\", u * 2)  # Multiplica cada\n",
    "# producto entre dos vectores\n",
    "print(\"Multiplicación elemento a elemento:\", u * v)  # Multiplica elemento a elemento\n",
    "# Producto punto (dot product)  \n",
    "print(f\"Producto punto (dot product): {np.dot(u, v)}\")\n",
    "\n",
    "# funciones universales\n",
    "print(\"-----------------\")\n",
    "x = np.linspace(0, 10, 100)  # Crea un array de 100 puntos entre 0 y 10\n",
    "y = np.sin(x)  # Calcula el seno de cada elemento de x\n",
    "\n",
    "plt.plot(x, y)\n",
    "plt.title(\"Seno de x\")\n",
    "plt.xlabel(\"x\")\n",
    "plt.ylabel(\"sin(x)\")\n",
    "plt.grid(True)\n",
    "plt.show()\n"
   ]
  },
  {
   "cell_type": "code",
   "execution_count": 22,
   "id": "3e8f5016",
   "metadata": {},
   "outputs": [
    {
     "name": "stdout",
     "output_type": "stream",
     "text": [
      "4\n",
      "1\n",
      "(4,)\n"
     ]
    }
   ],
   "source": [
    "# other attibutes\n",
    "a = np.array(range(1, 5))\n",
    "print(a.size )\n",
    "print(a.ndim)\n",
    "print(a.shape)"
   ]
  },
  {
   "cell_type": "code",
   "execution_count": null,
   "id": "0d29d6ed",
   "metadata": {},
   "outputs": [
    {
     "name": "stdout",
     "output_type": "stream",
     "text": [
      "size: 9, ndimention: 2, shape: (3, 3)\n",
      "[[1 2 3]\n",
      " [4 5 6]\n",
      " [7 8 9]]\n",
      "1\n",
      "6\n",
      "--------\n",
      "[1 2 3]\n",
      "[2 5 8]\n",
      "[[1 2]\n",
      " [4 5]]\n",
      "[[2 3]\n",
      " [5 6]]\n",
      "[[4 5]\n",
      " [7 8]]\n"
     ]
    }
   ],
   "source": [
    "# N dimensional arrays\n",
    "# Create a 2D array (matrix)\n",
    "a2dm = np.array([\n",
    "    [1, 2, 3],\n",
    "    [4, 5, 6],\n",
    "    [7, 8, 9]\n",
    "    ])\n",
    "\n",
    "print(f\"size: {a2dm.size}, ndimention: {a2dm.ndim}, shape: {a2dm.shape}\")\n",
    "print(a2dm[:, :])  # Print the entire 2D array\n",
    "print(a2dm[0, 0])  # Access the first element (1)\n",
    "print(a2dm[1, 2])  # Access the element at row 1\n",
    "\n",
    "print(\"--------\")\n",
    "print(a2dm[0,0:3]) # get the first row\n",
    "print(a2dm[0:3,1]) # get the second column\n",
    "print(a2dm[0:2, 0:2]) # get the first two\n",
    "print(a2dm[0:2, 1:3]) # get the second and third columns\n",
    "print(a2dm[1:3, 0:2]) # get the second and third rows, first two columns\n",
    "\n"
   ]
  }
 ],
 "metadata": {
  "kernelspec": {
   "display_name": "venv (3.10.12)",
   "language": "python",
   "name": "python3"
  },
  "language_info": {
   "codemirror_mode": {
    "name": "ipython",
    "version": 3
   },
   "file_extension": ".py",
   "mimetype": "text/x-python",
   "name": "python",
   "nbconvert_exporter": "python",
   "pygments_lexer": "ipython3",
   "version": "3.10.12"
  }
 },
 "nbformat": 4,
 "nbformat_minor": 5
}
