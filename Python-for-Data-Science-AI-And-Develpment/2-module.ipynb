{
 "cells": [
  {
   "cell_type": "markdown",
   "id": "473535ec",
   "metadata": {},
   "source": [
    "# List and tuples"
   ]
  },
  {
   "cell_type": "code",
   "execution_count": null,
   "id": "eeed7efa",
   "metadata": {},
   "outputs": [],
   "source": [
    "list = ['The Dark Side of the Moon', 1973, 'Pink Floyd', 43.0, True]\n",
    "# indexing\n",
    "print(len(list))\n",
    "print(list[0], \", \", list[-5])  # first element\n",
    "print(list[1], \", \", list[-4])  # second element\n",
    "print(list[4], \", \",  list[-1])  # last element\n",
    "\n",
    "print(\"-------------------\")\n",
    "print(\"1: \", list[0:5:2])\n",
    "# metods\n",
    "list.extend(['Abbey Road', 1969, 'The Beatles', 47.0, True]) # extend the list with one or more elements\n",
    "print(\"2: \", list)\n",
    "list.append('Back in Black')\n",
    "print(\"3: \", list)\n",
    "list.append(['Rumours', 1977, 'Fleetwood Mac', 40.0, True]) # just add one element, in this case a list\n",
    "print(\"4: \", list)\n",
    "list.insert(0, 'Hotel California') # insert an element at a specific position\n",
    "print(\"5: \", list)\n",
    "\n",
    "# utilities\n",
    "print(\"-------------------\")\n",
    "print(\"7: \", list.count('The Dark Side of the Moon'))  # count the occurrences of an element\n",
    "print(\"8: \", list.index('Abbey Road'))  # find the index of an element\n",
    "print(\"9: \", list.index('Back in Black'))  # find the index of an element\n",
    "print(\"10: \", list.pop())  # remove and return the last element\n",
    "print(\"11: \", list)\n",
    "print(\"12: \", list.remove('Hotel California'))  # remove an element\n",
    "print(\"13: \", list)\n",
    "print(\"14: \", list.reverse())  # reverse the list\n",
    "print(\"15: \", list)\n",
    "#print(\"16: \", list.sort())  # sort the list\n",
    "print(\"17: \", list) # sort the list in ascending order\n",
    "#print(\"18: \", list.sort(reverse=True))  # sort the list in descending order\n",
    "print(\"19: \", list) # sort the list in descending order\n",
    "print(\"20: \", list.clear())  # clear the list\n",
    "print(\"21: \", list)  # print the empty list\n"
   ]
  },
  {
   "cell_type": "code",
   "execution_count": null,
   "id": "57ef6182",
   "metadata": {},
   "outputs": [],
   "source": [
    "#tuples\n",
    "print(\"-------------------\")\n",
    "tuple = ('The Dark Side of the Moon', 1973, 'Pink Floyd', 43.0, True, 'Abbey Road', 'Back in Black', 'Rumours', 'Hotel California')\n",
    "print(\"22: \", tuple)\n",
    "print(\"23: \", len(tuple))  # length of the tuple\n",
    "print(\"24: \", tuple[0], \", \", tuple[-5])  # first element\n",
    "print(\"25: \", tuple[1], \", \", tuple[-4])  # second element\n",
    "print(\"26: \", tuple[4], \", \",  tuple[-1])  # last\n",
    "print(\"27: \", tuple[0:5:2])  # slicing\n",
    "print(\"28: \", tuple.count('The Dark Side of the Moon'))  # count the occurrences of an element\n",
    "print(\"29: \", tuple.index('Abbey Road'))  # find the index of an element\n",
    "print(\"30: \", tuple.index('Back in Black'))  # find the index of an element\n",
    "print(\"31: \", tuple)  # print the tuple\n",
    "print(\"32: \", tuple.index('The Dark Side of the Moon'))  # find the index of an element\n",
    "\n",
    "# methods\n",
    "print(\"33: \", tuple.count('The Dark Side of the Moon'))  # count the occurrences of an element\n",
    "print(\"34: \", tuple.index('Abbey Road'))  # find the index of an element"
   ]
  },
  {
   "cell_type": "code",
   "execution_count": null,
   "id": "b5656ad1",
   "metadata": {},
   "outputs": [],
   "source": [
    "# can contain keys of different types just neet to be immutable\n",
    "dictionary = {\n",
    "    'album1': {\n",
    "        'title': 'The Dark Side of the Moon',\n",
    "        'year': 1973,\n",
    "        'artist': 'Pink Floyd',\n",
    "        'duration': 43.0,\n",
    "        'is_favorite': True\n",
    "    },\n",
    "    (1, 2): {\n",
    "        'title': 'Abbey Road',\n",
    "        'year': 1969,\n",
    "        'artist': 'The Beatles',\n",
    "        'duration': 47.0,\n",
    "        'is_favorite': True\n",
    "    },\n",
    "    'album3': {\n",
    "        list: ['Back in Black', 1980, 'AC/DC', 42.0, True],\n",
    "        'title': 'Rumours',\n",
    "        tuple: ('Fleetwood Mac', 1977, 40.0, True),\n",
    "        'year': 1977\n",
    "    }\n",
    "}\n",
    "\n",
    "# indexing\n",
    "print(\"35: \", dictionary['album1']['title'])  # access nested dictionary\n",
    "print(\"36: \", dictionary[(1, 2)]['artist'])  # access nested dictionary with a tuple key\n",
    "print(\"37: \", dictionary['album3']['title'])  # access nested dictionary with a list key\n",
    "print(\"38: \", dictionary['album3'][list][0])  # access nested dictionary with a list key\n",
    "print(\"39: \", dictionary['album3'][tuple][0])  # access nested dictionary with a tuple key\n",
    "\n",
    "# methods\n",
    "print(\"40: \", dictionary['album1'].get('title'))  # get value by key\n",
    "print(\"41: \", dictionary['album1'].keys())  # get all keys in the dictionary\n",
    "print(\"42: \", dictionary['album1'].values())  # get all values in the dictionary\n",
    "print(\"43: \", dictionary['album1'].items())  # get all key-value pairs in the dictionary\n",
    "print(\"44: \", dictionary['album1'].pop('year'))  # remove a key-value pair and return the value\n",
    "print(\"45: \", dictionary['album1'])  # print the dictionary after removing a key-value pair\n",
    "print(\"46: \", dictionary['album1'].popitem())  # remove the last inserted key-value pair and return it\n",
    "print(\"47: \", dictionary['album1'])  # print the dictionary after removing the last inserted key-value pair\n",
    "print(\"48: \", dictionary['album1'].clear())  # clear the dictionary\n",
    "print(\"49: \", dictionary['album1'])  # print the empty dictionary\n",
    "print(\"50: \", dictionary)  # print the entire dictionary\n"
   ]
  },
  {
   "cell_type": "code",
   "execution_count": null,
   "id": "3d3dedfe",
   "metadata": {},
   "outputs": [],
   "source": [
    "# variables\n",
    "x = 43 + 60 + 16 + 41\n",
    "print(x)\n",
    "y = 50 - 60\n",
    "print(y)\n"
   ]
  },
  {
   "cell_type": "markdown",
   "id": "15a2b25f",
   "metadata": {},
   "source": [
    "# strings operations"
   ]
  },
  {
   "cell_type": "code",
   "execution_count": null,
   "id": "40407e6d",
   "metadata": {},
   "outputs": [],
   "source": [
    "#strings operations\n",
    "string = \"Hello world\"\n",
    "print(f\"string variable has: {len(string)} chareacters\")\n",
    "\n",
    "print(string)\n",
    "print(string[0])\n",
    "print(string[10])\n",
    "print(string[-11])\n",
    "print(string[-1])\n",
    "\n",
    "print(\"\\n\")\n",
    "\n",
    "#[Where starts: where ends :how much jumps] \n",
    "print(string[::2]) # front the start to the end with 2 jumnp is the same that -> string[0::2]\n",
    "print(string[4:9]) # -> where start, where ends, how much jumps\n",
    "print(string[4:9:2]) # -> where start, where ends, how much jumps\n"
   ]
  },
  {
   "cell_type": "markdown",
   "id": "65e8c54c",
   "metadata": {},
   "source": []
  },
  {
   "cell_type": "markdown",
   "id": "e360a12c",
   "metadata": {},
   "source": [
    "# Dictonary"
   ]
  },
  {
   "cell_type": "code",
   "execution_count": null,
   "id": "18476680",
   "metadata": {},
   "outputs": [],
   "source": [
    "# can contain keys of different types just neet to be immutable\n",
    "dictionary = {\n",
    "    'album1': {\n",
    "        'title': 'The Dark Side of the Moon',\n",
    "        'year': 1973,\n",
    "        'artist': 'Pink Floyd',\n",
    "        'duration': 43.0,\n",
    "        'is_favorite': True\n",
    "    },\n",
    "    (1, 2): {\n",
    "        'title': 'Abbey Road',\n",
    "        'year': 1969,\n",
    "        'artist': 'The Beatles',\n",
    "        'duration': 47.0,\n",
    "        'is_favorite': True\n",
    "    },\n",
    "    'album3': {\n",
    "        list: ['Back in Black', 1980, 'AC/DC', 42.0, True],\n",
    "        'title': 'Rumours',\n",
    "        tuple: ('Fleetwood Mac', 1977, 40.0, True),\n",
    "        'year': 1977,\n",
    "    }\n",
    "}\n",
    "\n",
    "# indexing\n",
    "print(\"35: \", dictionary['album1']['title'])  # access nested dictionary\n",
    "print(\"36: \", dictionary[(1, 2)]['artist'])  # access nested dictionary with a tuple key\n",
    "print(\"37: \", dictionary['album3']['title'])  # access nested dictionary with a list key\n",
    "print(\"38: \", dictionary['album3'][list][0])  # access nested dictionary with a list key\n",
    "print(\"39: \", dictionary['album3'][tuple][0])  # access nested dictionary with a tuple key\n",
    "\n",
    "# methods\n",
    "print(\"40: \", dictionary['album1'].get('title'))  # get value by key\n",
    "print(\"41: \", dictionary['album1'].keys())  # get all keys in the dictionary\n",
    "print(\"42: \", dictionary['album1'].values())  # get all values in the dictionary\n",
    "print(\"43: \", dictionary['album1'].items())  # get all key-value pairs in the dictionary\n",
    "print(\"44: \", dictionary['album1'].pop('year'))  # remove a key-value pair and return the value\n",
    "print(\"45: \", dictionary['album1'])  # print the dictionary after removing a key-value pair\n",
    "print(\"46: \", dictionary['album1'].popitem())  # remove the last inserted key-value pair and return it\n",
    "print(\"47: \", dictionary['album1'])  # print the dictionary after removing the last inserted key-value pair\n",
    "print(\"48: \", dictionary['album1'].clear())  # clear the dictionary\n",
    "print(\"49: \", dictionary['album1'])  # print the empty dictionary\n",
    "print(\"50: \", dictionary)  # print the entire dictionary\n"
   ]
  },
  {
   "cell_type": "code",
   "execution_count": null,
   "id": "c8386d29",
   "metadata": {},
   "outputs": [],
   "source": [
    "# variables\n",
    "x = 43 + 60 + 16 + 41\n",
    "print(x)\n",
    "y = 50 - 60\n",
    "print(y)\n"
   ]
  },
  {
   "cell_type": "markdown",
   "id": "bc90dddd",
   "metadata": {},
   "source": [
    "# Sets"
   ]
  }
 ],
 "metadata": {
  "kernelspec": {
   "display_name": "Python 3",
   "language": "python",
   "name": "python3"
  },
  "language_info": {
   "codemirror_mode": {
    "name": "ipython",
    "version": 3
   },
   "file_extension": ".py",
   "mimetype": "text/x-python",
   "name": "python",
   "nbconvert_exporter": "python",
   "pygments_lexer": "ipython3",
   "version": "3.10.12"
  }
 },
 "nbformat": 4,
 "nbformat_minor": 5
}
